{
 "cells": [
  {
   "cell_type": "markdown",
   "id": "dacf74e6",
   "metadata": {},
   "source": [
    "# NumPy"
   ]
  },
  {
   "cell_type": "markdown",
   "id": "01b2bf34",
   "metadata": {},
   "source": [
    "Read the links: https://numpy.org/doc/stable/user/quickstart.html  and https://numpy.org/doc/stable/user/basics.broadcasting.html  before solving the exercises. "
   ]
  },
  {
   "cell_type": "markdown",
   "id": "7dae6889",
   "metadata": {},
   "source": [
    "### Print out the dimension (number of axes), shape, size and the datatype of the matrix A."
   ]
  },
  {
   "cell_type": "code",
   "execution_count": 5,
   "id": "1f79e4a6",
   "metadata": {},
   "outputs": [],
   "source": [
    "import numpy as np"
   ]
  },
  {
   "cell_type": "code",
   "execution_count": 6,
   "id": "7b3678cd",
   "metadata": {},
   "outputs": [],
   "source": [
    "A = np.arange(1, 16).reshape(3,5)"
   ]
  },
  {
   "cell_type": "code",
   "execution_count": 4,
   "id": "e4d93ce2",
   "metadata": {},
   "outputs": [
    {
     "name": "stdout",
     "output_type": "stream",
     "text": [
      "2\n"
     ]
    }
   ],
   "source": [
    "# Printing the dimention of matrix A (number of axes)\n",
    "print(A.ndim)"
   ]
  },
  {
   "cell_type": "code",
   "execution_count": 5,
   "id": "31d39235",
   "metadata": {},
   "outputs": [
    {
     "name": "stdout",
     "output_type": "stream",
     "text": [
      "(3, 5)\n"
     ]
    }
   ],
   "source": [
    "# Printing the shape of matrix A which the number of rows & columns\n",
    "print(A.shape)"
   ]
  },
  {
   "cell_type": "code",
   "execution_count": 6,
   "id": "e3855570",
   "metadata": {},
   "outputs": [
    {
     "name": "stdout",
     "output_type": "stream",
     "text": [
      "15\n"
     ]
    }
   ],
   "source": [
    "# Printing the size of matrix A which shows the total number of elements in A\n",
    "print(A.size)"
   ]
  },
  {
   "cell_type": "code",
   "execution_count": 7,
   "id": "5097d92d",
   "metadata": {},
   "outputs": [
    {
     "name": "stdout",
     "output_type": "stream",
     "text": [
      "int32\n"
     ]
    }
   ],
   "source": [
    "# Printing the data type of matrix A\n",
    "print(A.dtype)"
   ]
  },
  {
   "cell_type": "markdown",
   "id": "e56d2a96",
   "metadata": {},
   "source": [
    "### Do the following computations on the matrices B and C: \n",
    "* Elementwise subtraction. \n",
    "* Elementwise multiplication. \n",
    "* Matrix multiplication (by default you should use the @ operator)."
   ]
  },
  {
   "cell_type": "code",
   "execution_count": 8,
   "id": "a7053fbb",
   "metadata": {},
   "outputs": [
    {
     "name": "stdout",
     "output_type": "stream",
     "text": [
      "[[1 2 3]\n",
      " [4 5 6]\n",
      " [7 8 9]]\n",
      "\n",
      "[[2. 2. 2.]\n",
      " [2. 2. 2.]\n",
      " [2. 2. 2.]]\n"
     ]
    }
   ],
   "source": [
    "B = np.arange(1, 10).reshape(3, 3)\n",
    "C = np.ones((3, 3))*2\n",
    "\n",
    "print(B)\n",
    "print()\n",
    "print(C)"
   ]
  },
  {
   "cell_type": "code",
   "execution_count": 10,
   "id": "3cd794ae",
   "metadata": {},
   "outputs": [
    {
     "data": {
      "text/plain": [
       "array([[-1.,  0.,  1.],\n",
       "       [ 2.,  3.,  4.],\n",
       "       [ 5.,  6.,  7.]])"
      ]
     },
     "execution_count": 10,
     "metadata": {},
     "output_type": "execute_result"
    }
   ],
   "source": [
    "# Elementwise subtraction\n",
    "D = B - C\n",
    "D"
   ]
  },
  {
   "cell_type": "code",
   "execution_count": 11,
   "id": "b25a15e1",
   "metadata": {},
   "outputs": [
    {
     "data": {
      "text/plain": [
       "array([[ 2.,  4.,  6.],\n",
       "       [ 8., 10., 12.],\n",
       "       [14., 16., 18.]])"
      ]
     },
     "execution_count": 11,
     "metadata": {},
     "output_type": "execute_result"
    }
   ],
   "source": [
    "# Elementwise multiplication (elementwise product)\n",
    "E = B * C\n",
    "E"
   ]
  },
  {
   "cell_type": "code",
   "execution_count": 12,
   "id": "ea888789",
   "metadata": {},
   "outputs": [
    {
     "data": {
      "text/plain": [
       "array([[12., 12., 12.],\n",
       "       [30., 30., 30.],\n",
       "       [48., 48., 48.]])"
      ]
     },
     "execution_count": 12,
     "metadata": {},
     "output_type": "execute_result"
    }
   ],
   "source": [
    "# Matrix multiplication (matrix product)\n",
    "F = B @ C\n",
    "F"
   ]
  },
  {
   "cell_type": "markdown",
   "id": "96030d53",
   "metadata": {},
   "source": [
    "### Do the following calculations on the matrix:\n",
    "* Exponentiate each number elementwise (use the np.exp function).\n",
    "\n",
    "* Calculate the minimum value in the whole matrix. \n",
    "* Calculcate the minimum value in each row. \n",
    "* Calculcate the minimum value in each column. \n",
    "\n",
    "\n",
    "* Find the index value for the minimum value in the whole matrix (hint: use np.argmin).\n",
    "* Find the index value for the minimum value in each row (hint: use np.argmin).\n",
    "\n",
    "\n",
    "* Calculate the sum for all elements.\n",
    "* Calculate the mean for each column. \n",
    "* Calculate the median for each column. "
   ]
  },
  {
   "cell_type": "code",
   "execution_count": 13,
   "id": "f8a9166b",
   "metadata": {},
   "outputs": [
    {
     "name": "stdout",
     "output_type": "stream",
     "text": [
      "[[1 2 3]\n",
      " [4 5 6]\n",
      " [7 8 9]]\n"
     ]
    }
   ],
   "source": [
    "B = np.arange(1, 10).reshape(3, 3)\n",
    "print(B)"
   ]
  },
  {
   "cell_type": "code",
   "execution_count": 17,
   "id": "f03f24f7",
   "metadata": {},
   "outputs": [
    {
     "data": {
      "text/plain": [
       "array([[2.71828183e+00, 7.38905610e+00, 2.00855369e+01],\n",
       "       [5.45981500e+01, 1.48413159e+02, 4.03428793e+02],\n",
       "       [1.09663316e+03, 2.98095799e+03, 8.10308393e+03]])"
      ]
     },
     "execution_count": 17,
     "metadata": {},
     "output_type": "execute_result"
    }
   ],
   "source": [
    "# Exponentiate elemntwise\n",
    "np.exp(B)\n"
   ]
  },
  {
   "cell_type": "code",
   "execution_count": 19,
   "id": "72c3d0b4",
   "metadata": {},
   "outputs": [
    {
     "data": {
      "text/plain": [
       "1"
      ]
     },
     "execution_count": 19,
     "metadata": {},
     "output_type": "execute_result"
    }
   ],
   "source": [
    "# Calculate min value in whole matrix B\n",
    "B.min()"
   ]
  },
  {
   "cell_type": "code",
   "execution_count": 20,
   "id": "ca3fe370",
   "metadata": {},
   "outputs": [
    {
     "data": {
      "text/plain": [
       "array([1, 4, 7])"
      ]
     },
     "execution_count": 20,
     "metadata": {},
     "output_type": "execute_result"
    }
   ],
   "source": [
    "# Calculate min value in each row of matrix B\n",
    "B.min(axis=1)"
   ]
  },
  {
   "cell_type": "code",
   "execution_count": 21,
   "id": "49ace7ca",
   "metadata": {},
   "outputs": [
    {
     "data": {
      "text/plain": [
       "array([1, 2, 3])"
      ]
     },
     "execution_count": 21,
     "metadata": {},
     "output_type": "execute_result"
    }
   ],
   "source": [
    "# Calculate min value in each column of matrix B\n",
    "B.min(axis=0)"
   ]
  },
  {
   "cell_type": "code",
   "execution_count": 23,
   "id": "0c70d09e",
   "metadata": {},
   "outputs": [
    {
     "data": {
      "text/plain": [
       "0"
      ]
     },
     "execution_count": 23,
     "metadata": {},
     "output_type": "execute_result"
    }
   ],
   "source": [
    "# Finding index value for the min value in whole matrix B\n",
    "B.argmin()"
   ]
  },
  {
   "cell_type": "code",
   "execution_count": 24,
   "id": "fa15464e",
   "metadata": {},
   "outputs": [
    {
     "data": {
      "text/plain": [
       "array([0, 0, 0], dtype=int64)"
      ]
     },
     "execution_count": 24,
     "metadata": {},
     "output_type": "execute_result"
    }
   ],
   "source": [
    "# Finding index value for the min value in each row of matrix B\n",
    "B.argmin(axis=1)"
   ]
  },
  {
   "cell_type": "code",
   "execution_count": 37,
   "id": "8752fea5",
   "metadata": {},
   "outputs": [
    {
     "data": {
      "text/plain": [
       "45"
      ]
     },
     "execution_count": 37,
     "metadata": {},
     "output_type": "execute_result"
    }
   ],
   "source": [
    "# Calculate the sum for all elements of matrix B\n",
    "B.sum()"
   ]
  },
  {
   "cell_type": "code",
   "execution_count": 45,
   "id": "61733cee",
   "metadata": {},
   "outputs": [
    {
     "data": {
      "text/plain": [
       "array([4., 5., 6.])"
      ]
     },
     "execution_count": 45,
     "metadata": {},
     "output_type": "execute_result"
    }
   ],
   "source": [
    "# Calculate the mean for each column of Matrix B\n",
    "np.mean(B, axis=0)"
   ]
  },
  {
   "cell_type": "code",
   "execution_count": 44,
   "id": "9fe24743",
   "metadata": {},
   "outputs": [
    {
     "data": {
      "text/plain": [
       "array([4., 5., 6.])"
      ]
     },
     "execution_count": 44,
     "metadata": {},
     "output_type": "execute_result"
    }
   ],
   "source": [
    "# Calculate the median for each column \n",
    "np.median(B, axis=0)"
   ]
  },
  {
   "cell_type": "markdown",
   "id": "541eb7ba",
   "metadata": {},
   "source": [
    "### What does it mean when you provide fewer indices than axes when slicing? See example below."
   ]
  },
  {
   "cell_type": "code",
   "execution_count": 7,
   "id": "9c8abf56",
   "metadata": {},
   "outputs": [
    {
     "name": "stdout",
     "output_type": "stream",
     "text": [
      "[[ 1  2  3  4  5]\n",
      " [ 6  7  8  9 10]\n",
      " [11 12 13 14 15]]\n"
     ]
    }
   ],
   "source": [
    "\n",
    "print(A)"
   ]
  },
  {
   "cell_type": "code",
   "execution_count": 47,
   "id": "69415f7b",
   "metadata": {},
   "outputs": [
    {
     "data": {
      "text/plain": [
       "array([ 6,  7,  8,  9, 10])"
      ]
     },
     "execution_count": 47,
     "metadata": {},
     "output_type": "execute_result"
    }
   ],
   "source": [
    "A[1]"
   ]
  },
  {
   "cell_type": "markdown",
   "id": "6c53541b",
   "metadata": {},
   "source": [
    "**Answer:**"
   ]
  },
  {
   "cell_type": "markdown",
   "id": "06b2351b",
   "metadata": {},
   "source": [
    "Here we have a 2D array (3 rows & 5 columns). If we provide only one number (fewer indices than axes) when slicing, it is interprated as the row index. So, Numpy will return the entire row as the index. In this example it will return the second row, since index starts from 0: [ 6,  7,  8,  9, 10]. "
   ]
  },
  {
   "cell_type": "markdown",
   "id": "6652d0c9",
   "metadata": {},
   "source": [
    "### Iterating over multidimensional arrays is done with respect to the first axis, so in the example below we iterate trough the rows. If you would like to iterate through the array *elementwise*, how would you do that?"
   ]
  },
  {
   "cell_type": "code",
   "execution_count": 8,
   "id": "9459864f",
   "metadata": {},
   "outputs": [
    {
     "data": {
      "text/plain": [
       "array([[ 1,  2,  3,  4,  5],\n",
       "       [ 6,  7,  8,  9, 10],\n",
       "       [11, 12, 13, 14, 15]])"
      ]
     },
     "execution_count": 8,
     "metadata": {},
     "output_type": "execute_result"
    }
   ],
   "source": [
    "A"
   ]
  },
  {
   "cell_type": "code",
   "execution_count": 9,
   "id": "a671bb5a",
   "metadata": {},
   "outputs": [
    {
     "name": "stdout",
     "output_type": "stream",
     "text": [
      "[1 2 3 4 5]\n",
      "[ 6  7  8  9 10]\n",
      "[11 12 13 14 15]\n"
     ]
    }
   ],
   "source": [
    "for i in A:\n",
    "    print(i)"
   ]
  },
  {
   "cell_type": "code",
   "execution_count": 10,
   "id": "192539ea",
   "metadata": {},
   "outputs": [
    {
     "name": "stdout",
     "output_type": "stream",
     "text": [
      "1\n",
      "2\n",
      "3\n",
      "4\n",
      "5\n",
      "6\n",
      "7\n",
      "8\n",
      "9\n",
      "10\n",
      "11\n",
      "12\n",
      "13\n",
      "14\n",
      "15\n"
     ]
    }
   ],
   "source": [
    "# If we would like to iterate through the array elementwise, we need to flatten the array first by flat attribute which is an iterator over all the elements of the array.\n",
    "for i in A.flat:\n",
    "    print(i)"
   ]
  },
  {
   "cell_type": "markdown",
   "id": "608a2583",
   "metadata": {},
   "source": [
    "### Explain what the code below does. More specifically, b has three axes - what does this mean? "
   ]
  },
  {
   "cell_type": "code",
   "execution_count": 11,
   "id": "f8f9b26f",
   "metadata": {},
   "outputs": [
    {
     "name": "stdout",
     "output_type": "stream",
     "text": [
      "[ 0  1  2  3  4  5  6  7  8  9 10 11 12 13 14 15 16 17 18 19 20 21 22 23\n",
      " 24 25 26 27 28 29]\n",
      "\n",
      "[[[ 0  1  2  3  4]\n",
      "  [ 5  6  7  8  9]\n",
      "  [10 11 12 13 14]]\n",
      "\n",
      " [[15 16 17 18 19]\n",
      "  [20 21 22 23 24]\n",
      "  [25 26 27 28 29]]]\n"
     ]
    }
   ],
   "source": [
    "a = np.arange(30)\n",
    "b = a.reshape((2, 3, -1))\n",
    "print(a)\n",
    "print()\n",
    "\n",
    "print(b)"
   ]
  },
  {
   "cell_type": "markdown",
   "id": "03a92f7c",
   "metadata": {},
   "source": [
    "a = np.arange(30): creats a 1D array with 30 values (0 to 29).\n",
    "\n",
    "b = a.reshape((2, 3, -1)): rearranges the 30 elments in the 1D array \"a\" to a new shape which is a 3D arrays. So, \"b\" has three axes (2, 3, -1) which means 2 layers(blocks), and in each layer(block) there are 3 rows. By using -1, we ask numPy to automaticaaly determine the number of the columns (or the last dimension). NumPy calculate the number of columns using the information provided. In our example, by considering the number of elements in the array(30), and the numbers of blocks (2) and rows(3): the number of columns= 30/(2*3) = 5\n",
    "\n",
    " So, we will have 5 columns in the array b. So, b = a.reshape((2, 3, -1)) and b = a.reshape((2, 3, 5)) are identical."
   ]
  },
  {
   "cell_type": "markdown",
   "id": "ab5933d5",
   "metadata": {},
   "source": [
    "### Broadcasting\n",
    "**Read the following link about broadcasting: https://numpy.org/doc/stable/user/basics.broadcasting.html#basics-broadcasting**"
   ]
  },
  {
   "cell_type": "markdown",
   "id": "039805ba",
   "metadata": {},
   "source": [
    "# Remark on Broadcasting when doing Linear Algebra calculations in Python. "
   ]
  },
  {
   "cell_type": "markdown",
   "id": "c4bcc147",
   "metadata": {},
   "source": [
    "### From the mathematical rules of matrix addition, the operation below (m1 + m2) does not make sense. The reason is that matrix addition requires two matrices of the same size. In Python however, it works due to broadcasting rules in NumPy. So you must be careful when doing Linear Algebra calculations in Python since they do not follow the \"mathematical rules\". This can however easily be handled by doing some simple programming, for example validating that two matrices have the same shape is easy if you for instance want to add two matrices. "
   ]
  },
  {
   "cell_type": "code",
   "execution_count": 141,
   "id": "1fd46778",
   "metadata": {},
   "outputs": [
    {
     "name": "stdout",
     "output_type": "stream",
     "text": [
      "m1 + m2:\n",
      " [[2 3]\n",
      " [4 5]]\n"
     ]
    }
   ],
   "source": [
    "# Matrix addition according to broadcasting rules:\n",
    "m1 = np.array([[1, 2], [3, 4]])\n",
    "m2 = np.array([1, 1])\n",
    "#print(f\"m1:\\n{m1}\")\n",
    "#print(f\"m2:\\n{m2}\")\n",
    "#print()\n",
    "print(f\"m1 + m2:\\n {m1 + m2}\")"
   ]
  },
  {
   "cell_type": "code",
   "execution_count": 140,
   "id": "d79550f1",
   "metadata": {},
   "outputs": [
    {
     "name": "stdout",
     "output_type": "stream",
     "text": [
      "Cannot add matrices, the matrices do not have the same size.\n"
     ]
    }
   ],
   "source": [
    "# Matrix addition according to linear algebra:\n",
    "m1 = np.array([[1, 2], [3, 4]])\n",
    "m2 = np.array([1, 1])\n",
    "#print(f'm1 shape is: {m1.shape}')\n",
    "#print(f'm2 shape is: {m2.shape}')\n",
    "if m1.shape ==  m2.shape:\n",
    "    print('Adding is possible! The matrices have the same size.')\n",
    "    print(m1 + m2)\n",
    "else:\n",
    "    print('Cannot add matrices, the matrices do not have the same size.')             \n",
    "              "
   ]
  },
  {
   "cell_type": "markdown",
   "id": "047d6576",
   "metadata": {},
   "source": [
    "### The example below would also not be allowed if following the \"mathematical rules\" in Linear Algebra. But it works due to broadcasting in NumPy. "
   ]
  },
  {
   "cell_type": "code",
   "execution_count": 28,
   "id": "5e6ef2e4",
   "metadata": {},
   "outputs": [
    {
     "name": "stdout",
     "output_type": "stream",
     "text": [
      "v1: [1 2 3]\n",
      "v1 + 1: [2 3 4]\n"
     ]
    }
   ],
   "source": [
    "# Matrix addition according to broadcasting rules:\n",
    "v1 = np.array([1, 2, 3])\n",
    "print(f\"v1: {v1}\")\n",
    "print(f\"v1 + 1: {v1 + 1}\")"
   ]
  },
  {
   "cell_type": "code",
   "execution_count": 37,
   "id": "e2cbae26",
   "metadata": {},
   "outputs": [
    {
     "name": "stdout",
     "output_type": "stream",
     "text": [
      "A: \n",
      "[[1 2]\n",
      " [3 4]]\n",
      "b: \n",
      "[2 2]\n",
      "\n",
      "A + b: \n",
      "[[3 4]\n",
      " [5 6]]\n"
     ]
    }
   ],
   "source": [
    "# Matrix addition according to broadcasting rules:\n",
    "A = np.arange(1, 5).reshape(2,2)\n",
    "print(f\"A: \\n{A}\")\n",
    "\n",
    "b = np.array([2, 2])\n",
    "print(f\"b: \\n{b}\")\n",
    "print()\n",
    "print(f\"A + b: \\n{A + b}\")"
   ]
  },
  {
   "cell_type": "markdown",
   "id": "722fd5cd",
   "metadata": {},
   "source": [
    "# Vector- and matrix algebra Exercises"
   ]
  },
  {
   "cell_type": "markdown",
   "id": "b63a3081-d976-4d9f-bfd0-a63917e79f7d",
   "metadata": {},
   "source": [
    "**Now you are going to create a function that can be reused every time you add or multiply matrices. The function is created so that we do the addition and multiplication according to the rules of vector- and matrix algebra.**\n",
    "\n",
    "**Create a function \"add_mult_matrices\" that takes two matrices as input arguments (validate that the input are of the type numpy.ndarray by using the isinstance function), a third argument that is either 'add' or 'multiply' that specifies if you want to add or multiply the matrices (validate that the third argument is either 'add' or 'multiply'). When doing matrix addition, validate that the matrices have the same size. When doing matrix multiplication, validate that the sizes conform (i.e. number of columns in the first matrix is equal to the number of rows in the second matrix).**"
   ]
  },
  {
   "cell_type": "code",
   "execution_count": 263,
   "id": "3506f977-ac0a-473f-85bc-eec9f35dc498",
   "metadata": {},
   "outputs": [],
   "source": [
    "# Creating a function with three arguments:\n",
    "\n",
    "def add_mult_matrices(matrix_1, matrix_2, operator): \n",
    "    # Validating that the first two inputs are of type of numpy.ndarray.\n",
    "    if not isinstance(matrix_1, np.ndarray) and isinstance(matrix_2, np.ndarray):\n",
    "        raise ValueError(\"both input must be of type of numpy.ndarray.\")\n",
    "    \n",
    "    # Validating that the third input is either \"add\" or \"multiply\"\n",
    "    if operator not in [\"add\", \"multiply\"]:\n",
    "        raise ValueError('Choose either \"add\" or \"multiply\".') \n",
    "           \n",
    "    # Matrix addition according to linear algebra:\n",
    "    if operator == \"add\":\n",
    "        if matrix_1.shape ==  matrix_2.shape:\n",
    "            # print('Adding is possible! The matrices have the same size.')\n",
    "            return matrix_1 + matrix_2\n",
    "        else:\n",
    "            raise ValueError('Cannot add matrices, the matrices do not have the same size.')\n",
    "        \n",
    "    # Matrix multiplication according to linear algebra:    \n",
    "    elif operator == \"multiply\": \n",
    "        if matrix_1.shape[1] == matrix_2.shape[0]:\n",
    "            # print('Multiplication is possible! The column number of matrix_1 is equal to the row number of matrix_2.')\n",
    "            return matrix_1 @ matrix_2 \n",
    "        else:\n",
    "            raise ValueError('Cannot multiply matrices, the column number of matrix_1 is not equal to the row number of matrix_2.')\n",
    "   "
   ]
  },
  {
   "cell_type": "code",
   "execution_count": 170,
   "id": "8d5311ff",
   "metadata": {},
   "outputs": [
    {
     "data": {
      "text/plain": [
       "array([[2, 4],\n",
       "       [6, 8]])"
      ]
     },
     "execution_count": 170,
     "metadata": {},
     "output_type": "execute_result"
    }
   ],
   "source": [
    "add_mult_matrices(m1, A, \"add\")"
   ]
  },
  {
   "cell_type": "code",
   "execution_count": 171,
   "id": "5fc73284",
   "metadata": {},
   "outputs": [
    {
     "data": {
      "text/plain": [
       "array([[ 7, 10],\n",
       "       [15, 22]])"
      ]
     },
     "execution_count": 171,
     "metadata": {},
     "output_type": "execute_result"
    }
   ],
   "source": [
    "add_mult_matrices(m1, A, \"multiply\")"
   ]
  },
  {
   "cell_type": "markdown",
   "id": "8dad82d0-2359-4dff-8f5b-a57d3e34103c",
   "metadata": {},
   "source": [
    "### Solve all the exercises in chapter 10.1 in the book \"Matematik för yrkeshögskolan\". "
   ]
  },
  {
   "cell_type": "code",
   "execution_count": 224,
   "id": "89df88af-3668-4d98-a0a4-e6d92eea0f89",
   "metadata": {},
   "outputs": [
    {
     "name": "stdout",
     "output_type": "stream",
     "text": [
      "x = [4 3]\n",
      "Dimension of x: 1\n",
      "5x = [20 15]\n",
      "3x = [12  9]\n",
      "5x + 3x = [32 24]\n",
      "8x = [32 24]\n",
      "4x - x = [12  9]\n",
      "x = [4 3] and x^T = [4 3]. There is no difference.\n",
      "row_x = [[4 3]]\n",
      "column_x = [[4]\n",
      " [3]]\n",
      "Är x + x^T definierat? nej\n",
      "The norm of x: 5.0\n"
     ]
    }
   ],
   "source": [
    "# Uppgift 10.1.1\n",
    "x = np.array([4, 3])\n",
    "print(f\"x = {x}\")\n",
    "\n",
    "# Dimension of x\n",
    "print(f\"Dimension of x: {x.ndim}\")\n",
    "\n",
    "# Beräkna 5x and 3x\n",
    "result_1 = 5 * x\n",
    "print(f\"5x = {result_1}\")\n",
    "result_2 = 3 * x\n",
    "print(f\"3x = {result_2}\")\n",
    "\n",
    "# Beräkna 5x + 3x\n",
    "print(f'5x + 3x = {add_mult_matrices(result_1, result_2, \"add\")}')\n",
    "\n",
    "# Beräkna 8x \n",
    "print(f\"8x = {8 * x}\")\n",
    "\n",
    "# Beräkna 4x - x\n",
    "#print(f\"4x = {4 * x}\")\n",
    "print(f\"4x - x = {(4 * x) - x}\")\n",
    "\n",
    "# Beräkna x^T, vilken blir nya dimension efter att transponeringen utförts?\n",
    "# x is a 1D vektor and if we use (.T) in numpy to transport it, the result will be the same:\n",
    "x_T = x.T\n",
    "print(f\"x = {x} and x^T = {x.T}. There is no difference.\")\n",
    "# So, first we need to reshape 1D x to a row-vector:\n",
    "row_x = x.reshape(1, -1)\n",
    "print(f\"row_x = {row_x}\")\n",
    "# Now, we can use (.T) to transport row_x to a column_x\n",
    "column_x = row_x.T\n",
    "print(f\"column_x = {column_x}\")\n",
    "\n",
    "# Är x + x^T definierat?\n",
    "# print(f'x + x^T = {add_mult_matrices(row_x, column_x, \"add\")}') \n",
    "# When I run the code, I get \"ValueError: Cannot add matrices, the matrices do not have the same size.\"\n",
    "print(\"Är x + x^T definierat? nej\")\n",
    "\n",
    "# Beräkna ||x||\n",
    "norm_x = np.linalg.norm(x)\n",
    "print(f\"The norm of x: {norm_x}\")"
   ]
  },
  {
   "cell_type": "code",
   "execution_count": 242,
   "id": "50966269",
   "metadata": {},
   "outputs": [
    {
     "name": "stdout",
     "output_type": "stream",
     "text": [
      "v = \n",
      "[[ 3]\n",
      " [ 7]\n",
      " [ 0]\n",
      " [11]]\n",
      "Dimension of v: 2\n",
      "2v = \n",
      "[[ 6]\n",
      " [14]\n",
      " [ 0]\n",
      " [22]]\n",
      "5v + 2v = \n",
      "[[21]\n",
      " [49]\n",
      " [ 0]\n",
      " [77]]\n",
      "4v - 2v = \n",
      "[[ 6]\n",
      " [14]\n",
      " [ 0]\n",
      " [22]]\n",
      "v^T = [[ 3  7  0 11]]\n",
      "The norm of v: 13.379088160259652\n"
     ]
    }
   ],
   "source": [
    "# Uppgift 10.1.2\n",
    "v = np.array([3, 7, 0, 11]).reshape(-1, 1)\n",
    "print(f\"v = \\n{v}\")\n",
    "\n",
    "# Dimension of v\n",
    "print(f\"Dimension of v: {v.ndim}\")\n",
    "#print(f\"shape of v: {v.shape}\")\n",
    "\n",
    "# Beräkna 2v:\n",
    "result_v_1 = 2 * v\n",
    "print(f\"2v = \\n{result_v_1}\")\n",
    "\n",
    "# Beräkna 5v + 2v\n",
    "result_v_2 = 5 * v\n",
    "#print(f\"5v = \\n{result_v_2}\")\n",
    "print(f'5v + 2v = \\n{add_mult_matrices(result_v_2, result_v_1, \"add\")}')\n",
    "\n",
    "# Beräkna 4v - 2v\n",
    "result_v_3 = 4 * v\n",
    "#print(f\"4v = \\n{result_v_3}\")\n",
    "if result_v_3.shape == result_v_1.shape:\n",
    "    print(f\"4v - 2v = \\n{result_v_3 - result_v_1}\")\n",
    "else:\n",
    "    print(\"4v - 2v är inte deinierat\")\n",
    "    \n",
    "# Beräkna v^T, vilken blir nya dimension efter att transponeringen utförts?\n",
    "v_T = v.T\n",
    "print(f\"v^T = {v.T}\")\n",
    "\n",
    "# Beräkna ||v||\n",
    "norm_v = np.linalg.norm(v)\n",
    "print(f\"The norm of v: {norm_v}\")"
   ]
  },
  {
   "cell_type": "code",
   "execution_count": 250,
   "id": "fc4cf4dd",
   "metadata": {},
   "outputs": [
    {
     "name": "stdout",
     "output_type": "stream",
     "text": [
      "v1 = [4 3 1 5] and v2 = [2 3 1 1]\n",
      "The norm of v1: 7.14142842854285\n",
      "The norm of v1 - v2: 4.47213595499958\n"
     ]
    }
   ],
   "source": [
    "# Uppgift 10.1.3\n",
    "v1 = np.array([4, 3, 1, 5])\n",
    "v2 = np.array([2, 3, 1, 1])\n",
    "print(f\"v1 = {v1} and v2 = {v2}\")\n",
    "\n",
    "# Beräkna ||v1||\n",
    "norm_v1 = np.linalg.norm(v1)\n",
    "print(f\"The norm of v1: {norm_v1}\")\n",
    "\n",
    "# Beräkna ||v1 - v2||\n",
    "# Vi börjar med att utföra vektorsubtraktion\n",
    "vektor_subtraktion = v1 - v2 \n",
    "#print(f\"v1 - v2 = {vektor_subtraktion}\")\n",
    "# Nu beräknar vi normen\n",
    "norm_vektor_subtraktion = np.linalg.norm(vektor_subtraktion)\n",
    "print(f\"The norm of v1 - v2: {norm_vektor_subtraktion}\")\n"
   ]
  },
  {
   "cell_type": "markdown",
   "id": "75c98984-1f88-4df1-b850-d2466de444a5",
   "metadata": {},
   "source": [
    "### Solve all the exercises, except 10.2.4, in chapter 10.2 in the book \"Matematik för yrkeshögskolan\". "
   ]
  },
  {
   "cell_type": "code",
   "execution_count": 257,
   "id": "65371610-16e1-48b2-b7fb-65e49002608a",
   "metadata": {},
   "outputs": [
    {
     "name": "stdout",
     "output_type": "stream",
     "text": [
      "A = \n",
      "[[ 2  1 -1]\n",
      " [ 1 -1  1]]\n",
      "B = \n",
      "[[ 4 -2  1]\n",
      " [ 2 -4 -2]]\n",
      "C = \n",
      "[[1 2]\n",
      " [2 1]]\n",
      "D = \n",
      "[[3 4]\n",
      " [4 3]]\n",
      "E = \n",
      "[[1]\n",
      " [2]]\n",
      "I = \n",
      "[[1 0]\n",
      " [0 1]]\n"
     ]
    }
   ],
   "source": [
    "# Uppgift 10.2.1\n",
    "# Definiera matriserna:\n",
    "A = np.array([(2, 1, -1), (1, -1, 1)]).reshape(2, 3)\n",
    "print(f\"A = \\n{A}\")\n",
    "B = np.array([(4, -2, 1), (2, -4, -2)]).reshape(2, 3)\n",
    "print(f\"B = \\n{B}\")\n",
    "C = np.array([(1, 2), (2, 1)]).reshape(2, 2)\n",
    "print(f\"C = \\n{C}\")\n",
    "D = np.array([(3, 4), (4, 3)]).reshape(2, 2)\n",
    "print(f\"D = \\n{D}\")\n",
    "E = np.array([(1, 2)]).reshape(2, 1)\n",
    "print(f\"E = \\n{E}\")\n",
    "I = np.array([(1, 0), (0, 1)]).reshape(2, 2)\n",
    "print(f\"I = \\n{I}\")"
   ]
  },
  {
   "cell_type": "code",
   "execution_count": 289,
   "id": "8222b5d8",
   "metadata": {},
   "outputs": [
    {
     "name": "stdout",
     "output_type": "stream",
     "text": [
      "2A = \n",
      "[[ 4  2 -2]\n",
      " [ 2 -2  2]]\n",
      "B - 2A = \n",
      "[[ 0 -4  3]\n",
      " [ 0 -2 -4]]\n",
      "3C - 2E = \n",
      "Det är inte definierat. Matriserna har inte samma dimention.\n",
      "2D - 3C = \n",
      "[[3 2]\n",
      " [2 3]]\n",
      "D^T + 2D = \n",
      "[[ 9 12]\n",
      " [12  9]]\n",
      "2C^T - 2D^T = \n",
      "[[-4 -4]\n",
      " [-4 -4]]\n",
      "A^T - B = \n",
      "Det är inte definierat. Matriserna har inte samma dimention.\n",
      "CD = \n",
      "[[11 10]\n",
      " [10 11]]\n",
      "CB = \n",
      "[[  8 -10  -3]\n",
      " [ 10  -8   0]]\n",
      "CI = \n",
      "[[1 2]\n",
      " [2 1]]\n",
      "AB^T = \n",
      "[[5 2]\n",
      " [7 4]]\n"
     ]
    }
   ],
   "source": [
    "# Uppgift 10.2.1\n",
    "# 2A\n",
    "result_2A = 2 * A\n",
    "print(f\"2A = \\n{result_2A}\")\n",
    "\n",
    "# I create a simple function called \"subt_matrices\" to do subtractions according to linear algebra:\n",
    "def subt_matrices(matrix_1, matrix_2):\n",
    "    if matrix_1.shape ==  matrix_2.shape:\n",
    "            return matrix_1 - matrix_2\n",
    "    else:\n",
    "            return \"Det är inte definierat. Matriserna har inte samma dimention.\"\n",
    "        \n",
    "\n",
    "# B - 2A \n",
    "print(f\"B - 2A = \\n{subt_matrices(B, result_2A)}\")\n",
    "\n",
    "# 3C - 2E\n",
    "result_3C = 3 * C\n",
    "result_2E = 2 * E\n",
    "print(f\"3C - 2E = \\n{subt_matrices(result_3C , result_2E)}\")\n",
    "\n",
    "# 2D - 3C\n",
    "result_2D = 2 * D\n",
    "print(f\"2D - 3C = \\n{subt_matrices(result_2D , result_3C)}\")\n",
    "\n",
    "# D^T + 2D\n",
    "D_T = D.T\n",
    "#print(f\"D^T = \\n{D.T}\")\n",
    "print(f'D^T + 2D = \\n{add_mult_matrices(D_T, result_2D, \"add\")}')\n",
    "\n",
    "# 2C^T - 2D^T\n",
    "result_2C_T = 2 * (C.T)\n",
    "result_2D_T = 2 * (D.T)\n",
    "print(f\"2C^T - 2D^T = \\n{subt_matrices(result_2C_T , result_2D_T)}\")\n",
    "\n",
    "# A^T - B\n",
    "result_A_T = A.T\n",
    "print(f\"A^T - B = \\n{subt_matrices(result_A_T , B)}\")\n",
    "\n",
    "# AC\n",
    "# by print(f'AC = \\n{add_mult_matrices(A, C, \"multiply\")}'), I got an error.\n",
    "# ValueError: Cannot multiply matrices, the column number of matrix_1 is not equal to the row number of matrix_2.\n",
    "\n",
    "# CD\n",
    "print(f'CD = \\n{add_mult_matrices(C, D, \"multiply\")}')\n",
    "\n",
    "# CB\n",
    "print(f'CB = \\n{add_mult_matrices(C, B, \"multiply\")}')\n",
    "\n",
    "# CI\n",
    "print(f'CI = \\n{add_mult_matrices(C, I, \"multiply\")}')\n",
    "\n",
    "# AB^T\n",
    "result_B_T = B.T\n",
    "print(f'AB^T = \\n{add_mult_matrices(A, result_B_T, \"multiply\")}')\n",
    "    "
   ]
  },
  {
   "cell_type": "code",
   "execution_count": 291,
   "id": "4e31acfd",
   "metadata": {},
   "outputs": [
    {
     "name": "stdout",
     "output_type": "stream",
     "text": [
      "A = \n",
      "[[2 3 4]\n",
      " [5 4 1]]\n",
      "AA^T = \n",
      "[[29 26]\n",
      " [26 42]]\n"
     ]
    }
   ],
   "source": [
    "# Uppgift 10.2.2\n",
    "# Definiera matrisen:\n",
    "A = np.array([(2, 3, 4), (5, 4, 1)]).reshape(2, 3)\n",
    "print(f\"A = \\n{A}\")\n",
    "\n",
    "# Beräkna AA^T\n",
    "A_T = A.T\n",
    "print(f'AA^T = \\n{add_mult_matrices(A, A_T, \"multiply\")}')\n"
   ]
  },
  {
   "cell_type": "code",
   "execution_count": 300,
   "id": "6ac0c707",
   "metadata": {},
   "outputs": [
    {
     "name": "stdout",
     "output_type": "stream",
     "text": [
      "A = \n",
      "[[1 2]\n",
      " [2 4]]\n",
      "B = \n",
      "[[2 1]\n",
      " [1 3]]\n",
      "C = \n",
      "[[4 3]\n",
      " [0 2]]\n",
      "AB = \n",
      "[[ 4  7]\n",
      " [ 8 14]]\n",
      "AC = \n",
      "[[ 4  7]\n",
      " [ 8 14]]\n"
     ]
    },
    {
     "data": {
      "text/plain": [
       "array([[ True,  True],\n",
       "       [ True,  True]])"
      ]
     },
     "execution_count": 300,
     "metadata": {},
     "output_type": "execute_result"
    }
   ],
   "source": [
    "# Uppgift 10.2.2\n",
    "# Definiera matriserna:\n",
    "A = np.array([(1, 2), (2, 4)]).reshape(2, 2)\n",
    "print(f\"A = \\n{A}\")\n",
    "B = np.array([(2, 1), (1, 3)]).reshape(2, 2)\n",
    "print(f\"B = \\n{B}\")\n",
    "C = np.array([(4, 3), (0, 2)]).reshape(2, 2)\n",
    "print(f\"C = \\n{C}\")\n",
    "\n",
    "# AB\n",
    "AB = add_mult_matrices(A, B, \"multiply\")\n",
    "print(f'AB = \\n{AB}')\n",
    "\n",
    "# AC\n",
    "AC = add_mult_matrices(A, C, \"multiply\")\n",
    "print(f'AC = \\n{AC}')\n",
    "\n",
    "#Verifera att AB = AC\n",
    "AB == AC\n"
   ]
  },
  {
   "cell_type": "markdown",
   "id": "6a4a524f",
   "metadata": {},
   "source": [
    "### Copies and Views\n",
    "Read the following link: https://numpy.org/doc/stable/user/basics.copies.html"
   ]
  },
  {
   "cell_type": "markdown",
   "id": "6cbbeaf7",
   "metadata": {},
   "source": [
    "**Basic indexing creates a view, How can you check if v1 and v2 is a view or copy? If you change the last element in v2 to 123, will the last element in v1 be changed? Why?**"
   ]
  },
  {
   "cell_type": "code",
   "execution_count": 313,
   "id": "5b9ef4df",
   "metadata": {},
   "outputs": [
    {
     "name": "stdout",
     "output_type": "stream",
     "text": [
      "v1 = [0 1 2 3]\n",
      "v2 = [2 3]\n"
     ]
    },
    {
     "data": {
      "text/plain": [
       "array([0, 1, 2, 3])"
      ]
     },
     "execution_count": 313,
     "metadata": {},
     "output_type": "execute_result"
    }
   ],
   "source": [
    "v1 = np.arange(4)\n",
    "v2 = v1[-2:]\n",
    "print(f\"v1 = {v1}\")\n",
    "print(f\"v2 = {v2}\")\n",
    "# We can tell if an array is a view or a copy by using the .base attribute\n",
    "# The base attribute of a view returns the original array while it returns None for a copy.\n",
    "v2.base # since \"v2.base\" returns the original array (v1), we can tell that v2 is a view."
   ]
  },
  {
   "cell_type": "code",
   "execution_count": 316,
   "id": "864f3778",
   "metadata": {},
   "outputs": [
    {
     "name": "stdout",
     "output_type": "stream",
     "text": [
      "v2 = [  2 123]\n",
      "v1 = [  0   1   2 123]\n"
     ]
    }
   ],
   "source": [
    "# we change the last elent of v2 to 123 and print v2\n",
    "v2[-1] = 123\n",
    "print(f\"v2 = {v2}\")\n",
    "# We can print v1 to check if the last element has changed too or not\n",
    "print(f\"v1 = {v1}\") \n",
    "# We see the last element of v1 is the same, 123. Since, the original array (v1) & view(v2) share the same memory. \n",
    "# So, by changing elements in view, we diectly change the elements of the original array."
   ]
  },
  {
   "cell_type": "code",
   "execution_count": 221,
   "id": "d2440489",
   "metadata": {},
   "outputs": [
    {
     "name": "stdout",
     "output_type": "stream",
     "text": [
      "None\n",
      "[0 1 2 3]\n"
     ]
    }
   ],
   "source": [
    "# The base attribute of a view returns the original array while it returns None for a copy.\n",
    "print(v1.base)\n",
    "print(v2.base)"
   ]
  },
  {
   "cell_type": "code",
   "execution_count": 222,
   "id": "c8752807",
   "metadata": {},
   "outputs": [
    {
     "name": "stdout",
     "output_type": "stream",
     "text": [
      "[  0   1   2 123]\n",
      "[  2 123]\n"
     ]
    }
   ],
   "source": [
    "# The last element in v1 will be changed aswell since v2 is a view, meaning they share the same data buffer.\n",
    "v2[-1] = 123\n",
    "print(v1)\n",
    "print(v2)"
   ]
  },
  {
   "cell_type": "code",
   "execution_count": null,
   "id": "3dd68221",
   "metadata": {},
   "outputs": [],
   "source": []
  }
 ],
 "metadata": {
  "kernelspec": {
   "display_name": "base",
   "language": "python",
   "name": "python3"
  },
  "language_info": {
   "codemirror_mode": {
    "name": "ipython",
    "version": 3
   },
   "file_extension": ".py",
   "mimetype": "text/x-python",
   "name": "python",
   "nbconvert_exporter": "python",
   "pygments_lexer": "ipython3",
   "version": "3.12.4"
  }
 },
 "nbformat": 4,
 "nbformat_minor": 5
}
