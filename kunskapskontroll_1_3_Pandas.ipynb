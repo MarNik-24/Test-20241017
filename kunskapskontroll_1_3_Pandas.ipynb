{
 "cells": [
  {
   "cell_type": "markdown",
   "id": "b540290b",
   "metadata": {},
   "source": [
    "# Pandas\n",
    "Read \"10 minutes to Pandas\": https://pandas.pydata.org/docs/user_guide/10min.html before solving the exercises.\n",
    "We will use the data set \"cars_data\" in the exercises below. "
   ]
  },
  {
   "cell_type": "code",
   "execution_count": 1,
   "id": "fa266ee4",
   "metadata": {},
   "outputs": [],
   "source": [
    "# Importing Pandas. \n",
    "import pandas as pd"
   ]
  },
  {
   "cell_type": "markdown",
   "id": "addb587b",
   "metadata": {},
   "source": [
    "### Explain what a CSV file is."
   ]
  },
  {
   "cell_type": "markdown",
   "id": "07228982",
   "metadata": {},
   "source": [
    "CSV (Comma Separated Values) is a file format used to store tabular data in a structured way, commenly used for spreadsheets and databases. "
   ]
  },
  {
   "cell_type": "markdown",
   "id": "5c61e5d9",
   "metadata": {},
   "source": [
    "### Load the data set \"cars_data\" through Pandas. "
   ]
  },
  {
   "cell_type": "code",
   "execution_count": 11,
   "id": "91923010",
   "metadata": {},
   "outputs": [],
   "source": [
    "# When reading in the data, either you have the data file in the same folder as your python script\n",
    "# or in a seperate folder.\n",
    "\n",
    "# Code below can be ran if you have the data file in the same folder as the script\n",
    "cars = pd.read_csv(\"cars_data.csv\")\n",
    "\n",
    "# Code below can be ran if you have the data file in another script. \n",
    "# Notice, you must change the path according to where you have the data in your computer. \n",
    "#pd.read_csv(r'C:\\Users\\Antonio Prgomet\\Documents\\ec_utbildning\\kursframstallning\\ds23\\python_stat\\exercises\\numpy_matplot_pandas\\cars_data.csv')"
   ]
  },
  {
   "cell_type": "markdown",
   "id": "b9ac1d06",
   "metadata": {},
   "source": [
    "### Print the first 10 rows of the data. "
   ]
  },
  {
   "cell_type": "code",
   "execution_count": 12,
   "id": "2886ff8e",
   "metadata": {},
   "outputs": [
    {
     "name": "stdout",
     "output_type": "stream",
     "text": [
      "   index      company   body-style  wheel-base  length engine-type  \\\n",
      "0      0  alfa-romero  convertible        88.6   168.8        dohc   \n",
      "1      1  alfa-romero  convertible        88.6   168.8        dohc   \n",
      "2      2  alfa-romero    hatchback        94.5   171.2        ohcv   \n",
      "3      3         audi        sedan        99.8   176.6         ohc   \n",
      "4      4         audi        sedan        99.4   176.6         ohc   \n",
      "5      5         audi        sedan        99.8   177.3         ohc   \n",
      "6      6         audi        wagon       105.8   192.7         ohc   \n",
      "7      9          bmw        sedan       101.2   176.8         ohc   \n",
      "8     10          bmw        sedan       101.2   176.8         ohc   \n",
      "9     11          bmw        sedan       101.2   176.8         ohc   \n",
      "\n",
      "  num-of-cylinders  horsepower  average-mileage    price  \n",
      "0             four         111               21  13495.0  \n",
      "1             four         111               21  16500.0  \n",
      "2              six         154               19  16500.0  \n",
      "3             four         102               24  13950.0  \n",
      "4             five         115               18  17450.0  \n",
      "5             five         110               19  15250.0  \n",
      "6             five         110               19  18920.0  \n",
      "7             four         101               23  16430.0  \n",
      "8             four         101               23  16925.0  \n",
      "9              six         121               21  20970.0  \n"
     ]
    }
   ],
   "source": [
    "print(cars.head(10))"
   ]
  },
  {
   "cell_type": "markdown",
   "id": "ec02774b",
   "metadata": {},
   "source": [
    "### Print the last 5 rows. "
   ]
  },
  {
   "cell_type": "code",
   "execution_count": 14,
   "id": "437d158f",
   "metadata": {},
   "outputs": [
    {
     "name": "stdout",
     "output_type": "stream",
     "text": [
      "    index     company body-style  wheel-base  length engine-type  \\\n",
      "56     81  volkswagen      sedan        97.3   171.7         ohc   \n",
      "57     82  volkswagen      sedan        97.3   171.7         ohc   \n",
      "58     86  volkswagen      sedan        97.3   171.7         ohc   \n",
      "59     87       volvo      sedan       104.3   188.8         ohc   \n",
      "60     88       volvo      wagon       104.3   188.8         ohc   \n",
      "\n",
      "   num-of-cylinders  horsepower  average-mileage    price  \n",
      "56             four          85               27   7975.0  \n",
      "57             four          52               37   7995.0  \n",
      "58             four         100               26   9995.0  \n",
      "59             four         114               23  12940.0  \n",
      "60             four         114               23  13415.0  \n"
     ]
    }
   ],
   "source": [
    "print(cars.tail(5))"
   ]
  },
  {
   "cell_type": "markdown",
   "id": "e0cd9329",
   "metadata": {},
   "source": [
    "### By using the info method, check how many non-null rows each column have. "
   ]
  },
  {
   "cell_type": "code",
   "execution_count": 16,
   "id": "efe71f5f",
   "metadata": {},
   "outputs": [
    {
     "name": "stdout",
     "output_type": "stream",
     "text": [
      "<class 'pandas.core.frame.DataFrame'>\n",
      "RangeIndex: 61 entries, 0 to 60\n",
      "Data columns (total 10 columns):\n",
      " #   Column            Non-Null Count  Dtype  \n",
      "---  ------            --------------  -----  \n",
      " 0   index             61 non-null     int64  \n",
      " 1   company           61 non-null     object \n",
      " 2   body-style        61 non-null     object \n",
      " 3   wheel-base        61 non-null     float64\n",
      " 4   length            61 non-null     float64\n",
      " 5   engine-type       61 non-null     object \n",
      " 6   num-of-cylinders  61 non-null     object \n",
      " 7   horsepower        61 non-null     int64  \n",
      " 8   average-mileage   61 non-null     int64  \n",
      " 9   price             58 non-null     float64\n",
      "dtypes: float64(3), int64(3), object(4)\n",
      "memory usage: 4.9+ KB\n"
     ]
    }
   ],
   "source": [
    "cars.info()\n",
    "# We have 61 rows (0 to 60). \n",
    "# If we compare the number of rows (61) with \"Non-Null Count\", they should be the same. otherwise, there are some missing data.\n",
    "# We see that \"Non-Null Count\" of price is 58, so have 3 missing values here."
   ]
  },
  {
   "cell_type": "markdown",
   "id": "887f8c9c",
   "metadata": {},
   "source": [
    "### If any column has a missing value, drop the entire row. Notice, the operation should be inplace meaning you change the dataframe itself."
   ]
  },
  {
   "cell_type": "code",
   "execution_count": 19,
   "id": "60b660dc",
   "metadata": {},
   "outputs": [
    {
     "name": "stdout",
     "output_type": "stream",
     "text": [
      "<class 'pandas.core.frame.DataFrame'>\n",
      "Index: 58 entries, 0 to 60\n",
      "Data columns (total 10 columns):\n",
      " #   Column            Non-Null Count  Dtype  \n",
      "---  ------            --------------  -----  \n",
      " 0   index             58 non-null     int64  \n",
      " 1   company           58 non-null     object \n",
      " 2   body-style        58 non-null     object \n",
      " 3   wheel-base        58 non-null     float64\n",
      " 4   length            58 non-null     float64\n",
      " 5   engine-type       58 non-null     object \n",
      " 6   num-of-cylinders  58 non-null     object \n",
      " 7   horsepower        58 non-null     int64  \n",
      " 8   average-mileage   58 non-null     int64  \n",
      " 9   price             58 non-null     float64\n",
      "dtypes: float64(3), int64(3), object(4)\n",
      "memory usage: 5.0+ KB\n"
     ]
    }
   ],
   "source": [
    "cars.dropna(inplace=True) # The 3 rows with missing vlaues (price) are removed\n",
    "cars.info()  # Now, index: 58 entries and \"Non-Null Count\" are the same."
   ]
  },
  {
   "cell_type": "markdown",
   "id": "614eeffe",
   "metadata": {},
   "source": [
    "### Calculate the mean of each numeric column. "
   ]
  },
  {
   "cell_type": "code",
   "execution_count": 21,
   "id": "49e06c7c",
   "metadata": {},
   "outputs": [
    {
     "data": {
      "text/plain": [
       "index                 40.827586\n",
       "wheel-base            98.620690\n",
       "length               173.646552\n",
       "horsepower           106.051724\n",
       "average-mileage       25.534483\n",
       "price              15387.000000\n",
       "dtype: float64"
      ]
     },
     "execution_count": 21,
     "metadata": {},
     "output_type": "execute_result"
    }
   ],
   "source": [
    "cars.mean(numeric_only=True) # numeric_only=True: to calculate the mean of numeric columns (some columns of cars are not numeric)"
   ]
  },
  {
   "cell_type": "markdown",
   "id": "f4f79bfd",
   "metadata": {},
   "source": [
    "### Select the rows where the column \"company\" is equal to 'honda'. "
   ]
  },
  {
   "cell_type": "code",
   "execution_count": 23,
   "id": "1e373079",
   "metadata": {},
   "outputs": [
    {
     "name": "stdout",
     "output_type": "stream",
     "text": [
      "    index company body-style  wheel-base  length engine-type num-of-cylinders  \\\n",
      "18     27   honda      wagon        96.5   157.1         ohc             four   \n",
      "19     28   honda      sedan        96.5   175.4         ohc             four   \n",
      "20     29   honda      sedan        96.5   169.1         ohc             four   \n",
      "\n",
      "    horsepower  average-mileage    price  \n",
      "18          76               30   7295.0  \n",
      "19         101               24  12945.0  \n",
      "20         100               25  10345.0  \n"
     ]
    }
   ],
   "source": [
    "honda_company = cars[cars[\"company\"] == \"honda\"] # Any rows of the data where the compnay is \"honda\" will be seleccted\n",
    "print(honda_company)"
   ]
  },
  {
   "cell_type": "markdown",
   "id": "0a3543eb",
   "metadata": {},
   "source": [
    "### Sort the data set by price in descending order. This should *not* be an inplace operation. "
   ]
  },
  {
   "cell_type": "code",
   "execution_count": 32,
   "id": "8455abaa",
   "metadata": {},
   "outputs": [],
   "source": [
    "sorted_cars = cars.sort_values(by =\"price\", ascending = False) # inplace default is false. So, I dont need to write it."
   ]
  },
  {
   "cell_type": "markdown",
   "id": "1527f255",
   "metadata": {},
   "source": [
    "### Select the rows where the column \"company\" is equal to any of the values (audi, bmw, porsche)."
   ]
  },
  {
   "cell_type": "code",
   "execution_count": 33,
   "id": "60e300ae",
   "metadata": {},
   "outputs": [
    {
     "name": "stdout",
     "output_type": "stream",
     "text": [
      "    index  company   body-style  wheel-base  length engine-type  \\\n",
      "3       3     audi        sedan        99.8   176.6         ohc   \n",
      "4       4     audi        sedan        99.4   176.6         ohc   \n",
      "5       5     audi        sedan        99.8   177.3         ohc   \n",
      "6       6     audi        wagon       105.8   192.7         ohc   \n",
      "7       9      bmw        sedan       101.2   176.8         ohc   \n",
      "8      10      bmw        sedan       101.2   176.8         ohc   \n",
      "9      11      bmw        sedan       101.2   176.8         ohc   \n",
      "10     13      bmw        sedan       103.5   189.0         ohc   \n",
      "11     14      bmw        sedan       103.5   193.8         ohc   \n",
      "12     15      bmw        sedan       110.0   197.0         ohc   \n",
      "45     61  porsche      hardtop        89.5   168.9        ohcf   \n",
      "46     62  porsche  convertible        89.5   168.9        ohcf   \n",
      "\n",
      "   num-of-cylinders  horsepower  average-mileage    price  \n",
      "3              four         102               24  13950.0  \n",
      "4              five         115               18  17450.0  \n",
      "5              five         110               19  15250.0  \n",
      "6              five         110               19  18920.0  \n",
      "7              four         101               23  16430.0  \n",
      "8              four         101               23  16925.0  \n",
      "9               six         121               21  20970.0  \n",
      "10              six         182               16  30760.0  \n",
      "11              six         182               16  41315.0  \n",
      "12              six         182               15  36880.0  \n",
      "45              six         207               17  34028.0  \n",
      "46              six         207               17  37028.0  \n"
     ]
    }
   ],
   "source": [
    "companies_to_filter = [\"audi\", \"bmw\", \"porsche\"] # Here, we specify the companies that we want to filter\n",
    "filtered_cars = cars[cars[\"company\"].isin(companies_to_filter)] # by using isin(), we select the rows with our interested values. \n",
    "print(filtered_cars)"
   ]
  },
  {
   "cell_type": "markdown",
   "id": "3ce133eb",
   "metadata": {},
   "source": [
    "### Find the number of cars (rows) for each company. "
   ]
  },
  {
   "cell_type": "code",
   "execution_count": 34,
   "id": "7e6a9d43",
   "metadata": {},
   "outputs": [
    {
     "name": "stdout",
     "output_type": "stream",
     "text": [
      "company\n",
      "toyota           7\n",
      "bmw              6\n",
      "mazda            5\n",
      "nissan           5\n",
      "audi             4\n",
      "mercedes-benz    4\n",
      "mitsubishi       4\n",
      "volkswagen       4\n",
      "alfa-romero      3\n",
      "chevrolet        3\n",
      "honda            3\n",
      "jaguar           3\n",
      "dodge            2\n",
      "porsche          2\n",
      "volvo            2\n",
      "isuzu            1\n",
      "Name: count, dtype: int64\n"
     ]
    }
   ],
   "source": [
    "# by using value_counts(), we get a series containing the number of cars for each \"company\", in descending order.\n",
    "car_numbers = cars[\"company\"].value_counts()\n",
    "print(car_numbers)"
   ]
  },
  {
   "cell_type": "markdown",
   "id": "5beef62f",
   "metadata": {},
   "source": [
    "### Find the maximum price for each company. "
   ]
  },
  {
   "cell_type": "code",
   "execution_count": 31,
   "id": "d91dc8be",
   "metadata": {},
   "outputs": [
    {
     "name": "stdout",
     "output_type": "stream",
     "text": [
      "company\n",
      "alfa-romero      16500.0\n",
      "audi             18920.0\n",
      "bmw              41315.0\n",
      "chevrolet         6575.0\n",
      "dodge             6377.0\n",
      "honda            12945.0\n",
      "isuzu             6785.0\n",
      "jaguar           36000.0\n",
      "mazda            18344.0\n",
      "mercedes-benz    45400.0\n",
      "mitsubishi        8189.0\n",
      "nissan           13499.0\n",
      "porsche          37028.0\n",
      "toyota           15750.0\n",
      "volkswagen        9995.0\n",
      "volvo            13415.0\n",
      "Name: price, dtype: float64\n"
     ]
    }
   ],
   "source": [
    "maximum_price = cars.groupby(\"company\")[\"price\"].max() # group the data by company and then finds the max price of each group\n",
    "print(maximum_price)"
   ]
  }
 ],
 "metadata": {
  "kernelspec": {
   "display_name": "base",
   "language": "python",
   "name": "python3"
  },
  "language_info": {
   "codemirror_mode": {
    "name": "ipython",
    "version": 3
   },
   "file_extension": ".py",
   "mimetype": "text/x-python",
   "name": "python",
   "nbconvert_exporter": "python",
   "pygments_lexer": "ipython3",
   "version": "3.12.4"
  }
 },
 "nbformat": 4,
 "nbformat_minor": 5
}
